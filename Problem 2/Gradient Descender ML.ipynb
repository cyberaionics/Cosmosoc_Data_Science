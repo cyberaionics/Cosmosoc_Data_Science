{
 "cells": [
  {
   "cell_type": "code",
   "execution_count": null,
   "id": "a2299636",
   "metadata": {
    "vscode": {
     "languageId": "plaintext"
    }
   },
   "outputs": [],
   "source": [
    "import pandas as pd\n",
    "import numpy as np\n",
    "from sklearn.ensemble import RandomForestClassifier\n",
    "from sklearn.model_selection import train_test_split\n",
    "from sklearn.preprocessing import LabelEncoder\n",
    "from sklearn.metrics import accuracy_score\n",
    "\n",
    "\n",
    "train=pd.read_csv('train.csv')\n",
    "test=pd.read_csv('test.csv')    \n",
    "\n",
    "print(train.isnull().sum())\n",
    "\n",
    "test_passenger_ids = test['PassengerId'].copy()\n",
    "\n",
    "numeric_cols = train.select_dtypes(include=[np.number]).columns\n",
    "for col in numeric_cols:\n",
    "    train[col].fillna(train[col].median(), inplace=True)\n",
    "    test[col].fillna(test[col].median(), inplace=True)\n",
    "\n",
    "categorical_cols = train.select_dtypes(include=['object']).columns\n",
    "for col in categorical_cols:\n",
    "    if col != 'Transported':\n",
    "        train[col].fillna(train[col].mode()[0], inplace=True)\n",
    "        test[col].fillna(test[col].mode()[0], inplace=True)\n",
    "\n",
    "def safe_label_encode(train_col, test_col):\n",
    "    le = LabelEncoder()\n",
    "    \n",
    "    combined = pd.concat([train_col, test_col]).astype(str)\n",
    "    le.fit(combined)\n",
    "    \n",
    "    train_encoded = le.transform(train_col.astype(str))\n",
    "    test_encoded = le.transform(test_col.astype(str))\n",
    "    \n",
    "    return train_encoded, test_encoded\n",
    "\n",
    "for col in categorical_cols:\n",
    "    if col != 'Transported':\n",
    "        train[col], test[col] = safe_label_encode(train[col], test[col])\n",
    "\n",
    "\n",
    "\n",
    "X = train.drop('Transported', axis=1)\n",
    "y = train['Transported'].astype(int)  \n",
    "\n",
    "\n",
    "\n",
    "X_train, X_val, y_train, y_val = train_test_split(X, y, test_size=0.2, random_state=42)\n",
    "\n",
    "model = RandomForestClassifier(n_estimators=100, random_state=42)\n",
    "model.fit(X_train, y_train)\n",
    "\n",
    "val_pred = model.predict(X_val)\n",
    "print(f\"Validation Accuracy: {accuracy_score(y_val, val_pred):.4f}\")\n",
    "\n",
    "\n",
    "predictions = model.predict(test)\n",
    "\n",
    "submission = pd.DataFrame({\n",
    "    'PassengerId': test_passenger_ids,\n",
    "    'Transported': predictions.astype(bool)\n",
    "})\n",
    "submission.to_csv('Gradient Descenders predicted.csv', index=False)\n"
   ]
  }
 ],
 "metadata": {
  "language_info": {
   "name": "python"
  }
 },
 "nbformat": 4,
 "nbformat_minor": 5
}
