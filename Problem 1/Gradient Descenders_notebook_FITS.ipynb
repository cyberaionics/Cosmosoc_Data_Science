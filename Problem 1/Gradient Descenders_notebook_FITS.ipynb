{
 "cells": [
  {
   "cell_type": "code",
   "execution_count": null,
   "id": "829182a8",
   "metadata": {
    "vscode": {
     "languageId": "plaintext"
    }
   },
   "outputs": [],
   "source": [
    "from astropy.io import fits\n",
    "import matplotlib.pyplot as plt\n",
    "import numpy as np\n",
    "\n",
    "def fits_to_jpeg(fits_file, output_jpeg):\n",
    "    with fits.open(fits_file) as hdul:\n",
    "        data = hdul[0].data\n",
    "    if data is not None:\n",
    "        data = np.nan_to_num(data)\n",
    "        vmin = np.percentile(data, 5)\n",
    "        vmax = np.percentile(data, 95)\n",
    "        plt.figure(figsize=(10, 8))\n",
    "        plt.imshow(data, cmap='gray', origin='lower', vmin=vmin, vmax=vmax)\n",
    "        plt.colorbar(label='Intensity')\n",
    "        plt.title(f'FITS: {fits_file}')\n",
    "        plt.xlabel('X pixels')\n",
    "        plt.ylabel('Y pixels')\n",
    "        plt.savefig(output_jpeg, dpi=150, bbox_inches='tight')\n",
    "        plt.close()\n",
    "        \n",
    "        print(f\"Converted {fits_file} to {output_jpeg}\")\n",
    "    else:\n",
    "        print(f\"No data found in {fits_file}\")\n",
    "\n",
    "n=int(input(\"Enter number of FITS files to convert: \"))\n",
    "for i in range(1,n+1):\n",
    "    fits_to_jpeg(f\"q{i}.fits\", f\"q{i}.jpeg\")"
   ]
  }
 ],
 "metadata": {
  "language_info": {
   "name": "python"
  }
 },
 "nbformat": 4,
 "nbformat_minor": 5
}
